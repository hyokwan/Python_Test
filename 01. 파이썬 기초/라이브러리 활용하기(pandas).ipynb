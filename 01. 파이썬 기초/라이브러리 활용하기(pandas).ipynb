{
 "cells": [
  {
   "cell_type": "code",
   "execution_count": 4,
   "id": "a4b9259b-0041-4c03-80fb-4110a1cbc14f",
   "metadata": {},
   "outputs": [],
   "source": [
    "# 행과열을 다루는 라이브러리\n",
    "import pandas as pd"
   ]
  },
  {
   "cell_type": "code",
   "execution_count": 14,
   "id": "b40374bf-43af-40a1-88c3-42c2e50ec75e",
   "metadata": {},
   "outputs": [],
   "source": [
    "# 행과 열이 있는 데이터 불러오기 (절대경로)\n",
    "indata = pd.read_csv(\"C:/Users/kopo/stdcode6/dataset/kopo_customerdata.csv\")\n",
    "# 상대경로\n",
    "indata2 = pd.read_csv(\"../dataset/kopo_customerdata.csv\")"
   ]
  },
  {
   "cell_type": "code",
   "execution_count": 15,
   "id": "f944750a-5d14-41be-80b9-9ca90d3f3d92",
   "metadata": {},
   "outputs": [],
   "source": [
    "stdCodeList = [111,222,333]"
   ]
  },
  {
   "cell_type": "code",
   "execution_count": 20,
   "id": "b0a662c1-8dd3-45e9-a998-d6dc30b2e096",
   "metadata": {},
   "outputs": [],
   "source": [
    "stdNameList = [\"김효관\",\"홍길동\",\"타요\"]"
   ]
  },
  {
   "cell_type": "code",
   "execution_count": 18,
   "id": "cf988b2c-589b-4524-b506-7dff6ddd949a",
   "metadata": {},
   "outputs": [],
   "source": [
    "stdDf = pd.DataFrame( stdCodeList, columns=[\"학번\"])"
   ]
  },
  {
   "cell_type": "code",
   "execution_count": 24,
   "id": "74c061c2-b8a6-46c3-ba6c-670310c785a9",
   "metadata": {},
   "outputs": [],
   "source": [
    "finalDf = pd.DataFrame( zip( stdCodeList,stdNameList),\n",
    "              columns = [\"학번\",\"이름\" ])"
   ]
  },
  {
   "cell_type": "code",
   "execution_count": 25,
   "id": "95c0998e-9372-4998-8053-08dd86a11df1",
   "metadata": {},
   "outputs": [],
   "source": [
    "row1List = [\"111\",\"김효관\"]\n",
    "row2List = [\"222\",\"홍길동\"]"
   ]
  },
  {
   "cell_type": "code",
   "execution_count": 30,
   "id": "1297dae2-622a-411b-be62-f8f813962e9c",
   "metadata": {},
   "outputs": [],
   "source": [
    "stdDf2 = pd.DataFrame( [   row1List,row2List     ],\n",
    "            columns=[\"학번\",\"이름\"] )"
   ]
  },
  {
   "cell_type": "code",
   "execution_count": 32,
   "id": "5a8e7210-03cf-4b6d-bd55-5609198be7da",
   "metadata": {},
   "outputs": [],
   "source": [
    "stdDf2.to_csv(\"../dataset/stdDataOut.csv\")"
   ]
  },
  {
   "cell_type": "code",
   "execution_count": 33,
   "id": "03cdc017-84b9-466c-a548-94dff2b456ce",
   "metadata": {},
   "outputs": [],
   "source": [
    "stdDf2.to_csv(\"../dataset/stdDataOut.csv\",\n",
    "              encoding=\"ms949\", index=False )"
   ]
  },
  {
   "cell_type": "code",
   "execution_count": null,
   "id": "6cbfa946-fcfa-42bf-a320-5417b222cf9e",
   "metadata": {},
   "outputs": [],
   "source": [
    "# 한글이 깨져요 encoding=\"ms949\"\n",
    "# 없던 컬럼이 하나가 앞에 있어요.. 0,1,2,3,순서가 index=False"
   ]
  },
  {
   "cell_type": "code",
   "execution_count": null,
   "id": "4fc9f431-1d0e-41d3-a2a9-b658c65abcd6",
   "metadata": {},
   "outputs": [],
   "source": [
    "finalDf"
   ]
  },
  {
   "cell_type": "code",
   "execution_count": null,
   "id": "d352dcb4-fb60-4b20-aba7-9ba7c3620f85",
   "metadata": {},
   "outputs": [],
   "source": []
  },
  {
   "cell_type": "code",
   "execution_count": null,
   "id": "8e8dd587-a058-49ea-bd83-67064bcdb6ad",
   "metadata": {},
   "outputs": [],
   "source": []
  },
  {
   "cell_type": "code",
   "execution_count": 19,
   "id": "e8d620bd-c165-4f30-ad45-bfad36ec1caf",
   "metadata": {},
   "outputs": [
    {
     "data": {
      "text/plain": [
       "pandas.core.frame.DataFrame"
      ]
     },
     "execution_count": 19,
     "metadata": {},
     "output_type": "execute_result"
    }
   ],
   "source": [
    "type(stdDf)"
   ]
  },
  {
   "cell_type": "code",
   "execution_count": null,
   "id": "799ea082-d071-4ef3-9958-3a919626afac",
   "metadata": {},
   "outputs": [],
   "source": [
    "pd.DataFrame"
   ]
  },
  {
   "cell_type": "code",
   "execution_count": null,
   "id": "69661461-dfab-46a5-a3d4-1d5d69cde10d",
   "metadata": {},
   "outputs": [],
   "source": []
  },
  {
   "cell_type": "code",
   "execution_count": null,
   "id": "082bda9a-da8f-40af-b2a4-e7ada90ff03d",
   "metadata": {},
   "outputs": [],
   "source": []
  },
  {
   "cell_type": "code",
   "execution_count": null,
   "id": "8baa8f1a-dbfd-4511-a649-6b8b3c87b121",
   "metadata": {},
   "outputs": [],
   "source": []
  },
  {
   "cell_type": "code",
   "execution_count": null,
   "id": "3d795ea2-8f8a-4935-b5eb-55a5f1e46742",
   "metadata": {},
   "outputs": [],
   "source": [
    "pandas.read_csv(\".......\")"
   ]
  },
  {
   "cell_type": "code",
   "execution_count": null,
   "id": "11b4195e-4062-41bf-b541-8e4650bc9772",
   "metadata": {},
   "outputs": [],
   "source": []
  }
 ],
 "metadata": {
  "kernelspec": {
   "display_name": "Python 3 (ipykernel)",
   "language": "python",
   "name": "python3"
  },
  "language_info": {
   "codemirror_mode": {
    "name": "ipython",
    "version": 3
   },
   "file_extension": ".py",
   "mimetype": "text/x-python",
   "name": "python",
   "nbconvert_exporter": "python",
   "pygments_lexer": "ipython3",
   "version": "3.9.13"
  }
 },
 "nbformat": 4,
 "nbformat_minor": 5
}
