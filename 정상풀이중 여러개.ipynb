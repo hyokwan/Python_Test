{
 "cells": [
  {
   "cell_type": "markdown",
   "id": "4fa29bd5-32ef-4a15-8154-0bef116f239b",
   "metadata": {},
   "source": [
    "### 기본풀이"
   ]
  },
  {
   "cell_type": "code",
   "execution_count": 82,
   "id": "757baf8d-e07f-4259-afdf-cc02269547e9",
   "metadata": {},
   "outputs": [],
   "source": [
    "import pandas as pd"
   ]
  },
  {
   "cell_type": "code",
   "execution_count": 83,
   "id": "d1755bc1-2a70-4ccb-8ba3-d1c54ae6d783",
   "metadata": {},
   "outputs": [],
   "source": [
    "customerData = pd.read_csv(\"../dataset/kopo_customerdata.csv\")\n",
    "customerTotalList = customerData[\"TOTAL_AMOUNT\"].tolist()"
   ]
  },
  {
   "cell_type": "code",
   "execution_count": 84,
   "id": "6b1ebe3a-bae2-4144-886d-2f2b55c5cd0c",
   "metadata": {},
   "outputs": [
    {
     "name": "stdout",
     "output_type": "stream",
     "text": [
      "최소값: 0\n"
     ]
    }
   ],
   "source": [
    "# STEP1 최소값 찾는다\n",
    "minValue = min( customerTotalList)\n",
    "print(\"최소값: {}\".format(minValue) )"
   ]
  },
  {
   "cell_type": "code",
   "execution_count": 85,
   "id": "85d59733-21f9-4e11-a8b7-0641340755a9",
   "metadata": {},
   "outputs": [
    {
     "name": "stdout",
     "output_type": "stream",
     "text": [
      "최대값: 3103500\n"
     ]
    }
   ],
   "source": [
    "# STEP2 최대값 찾는다\n",
    "maxValue = max( customerTotalList)\n",
    "print(\"최대값: {}\".format(maxValue) )"
   ]
  },
  {
   "cell_type": "code",
   "execution_count": 86,
   "id": "e0328a3e-795e-45ce-9e7c-437cc7b27c62",
   "metadata": {},
   "outputs": [],
   "source": [
    "customerTotalList.remove(minValue)\n",
    "customerTotalList.remove(maxValue)"
   ]
  },
  {
   "cell_type": "code",
   "execution_count": 87,
   "id": "4ac65d35-9662-41f6-8a40-8e73e527b821",
   "metadata": {},
   "outputs": [],
   "source": [
    "answer = sum(customerTotalList) / len(customerTotalList)"
   ]
  },
  {
   "cell_type": "code",
   "execution_count": 88,
   "id": "b867b7ee-f2f7-4006-b4b1-f31a1c17de99",
   "metadata": {},
   "outputs": [
    {
     "name": "stdout",
     "output_type": "stream",
     "text": [
      "최종 답은 35248.91490376756 입니다\n"
     ]
    }
   ],
   "source": [
    "answer = bunja / bunmo\n",
    "print( \"최종 답은 {} 입니다\".format(answer) )"
   ]
  },
  {
   "cell_type": "markdown",
   "id": "68a3f7a6-6726-4d35-9f47-be5ae9068dcc",
   "metadata": {
    "tags": []
   },
   "source": [
    "### 인덱스 사용하지 않았을때 풀이"
   ]
  },
  {
   "cell_type": "code",
   "execution_count": 89,
   "id": "a1b3a7f8-e278-43ee-84e6-a844ef7d5574",
   "metadata": {},
   "outputs": [],
   "source": [
    "import pandas as pd"
   ]
  },
  {
   "cell_type": "code",
   "execution_count": 90,
   "id": "7c2116ad-2352-48da-8a1e-777b0e0cc337",
   "metadata": {},
   "outputs": [],
   "source": [
    "customerData = pd.read_csv(\"../dataset/kopo_customerdata.csv\")\n",
    "customerTotalList = customerData[\"TOTAL_AMOUNT\"].tolist()"
   ]
  },
  {
   "cell_type": "code",
   "execution_count": 91,
   "id": "d69d2a98-9c2b-4fdc-b3de-7e9af4c75779",
   "metadata": {},
   "outputs": [
    {
     "name": "stdout",
     "output_type": "stream",
     "text": [
      "최소값: 0\n"
     ]
    }
   ],
   "source": [
    "# STEP1 최소값 찾는다\n",
    "minValue = min( customerTotalList)\n",
    "print(\"최소값: {}\".format(minValue) )"
   ]
  },
  {
   "cell_type": "code",
   "execution_count": 92,
   "id": "a1d2c916-0e47-4b95-b28a-608891273d6b",
   "metadata": {},
   "outputs": [
    {
     "name": "stdout",
     "output_type": "stream",
     "text": [
      "최대값: 3103500\n"
     ]
    }
   ],
   "source": [
    "# STEP2 최대값 찾는다\n",
    "maxValue = max( customerTotalList)\n",
    "print(\"최대값: {}\".format(maxValue) )"
   ]
  },
  {
   "cell_type": "code",
   "execution_count": 93,
   "id": "dfa1b3cf-9122-4c0a-89e6-3b039106827c",
   "metadata": {},
   "outputs": [
    {
     "name": "stdout",
     "output_type": "stream",
     "text": [
      "최소값 개수: 256 , 최대값 개수: 1\n"
     ]
    }
   ],
   "source": [
    "# STEP3 최소값 최대값 개수\n",
    "minValueCnt = customerTotalList.count(minValue)\n",
    "maxValueCnt = customerTotalList.count(maxValue)\n",
    "print(\"최소값 개수: {} , 최대값 개수: {}\".format(minValueCnt,maxValueCnt) )"
   ]
  },
  {
   "cell_type": "code",
   "execution_count": 94,
   "id": "0abf97c4-0c7b-4ac1-952c-4b56278fdd48",
   "metadata": {},
   "outputs": [],
   "source": [
    "# STEP4 전체 합 전체 길이 산출\n",
    "totalSum = sum(customerTotalList)\n",
    "totalCnt = len(customerTotalList)"
   ]
  },
  {
   "cell_type": "code",
   "execution_count": 95,
   "id": "19863c02-d319-40ba-b483-8e00ecb80022",
   "metadata": {},
   "outputs": [],
   "source": [
    "# Step4: 전체합-(최소값*최소값개수)-(최대값*최대값개수) / 전체개수-최소값개수-최대값개수       "
   ]
  },
  {
   "cell_type": "code",
   "execution_count": 96,
   "id": "2c43201e-59f1-465e-94bb-1b7c905e187b",
   "metadata": {},
   "outputs": [],
   "source": [
    "bunja = totalSum-(minValue*minValueCnt)-(maxValue*maxValueCnt)\n",
    "bunmo = totalCnt-minValueCnt-maxValueCnt"
   ]
  },
  {
   "cell_type": "code",
   "execution_count": 97,
   "id": "406f1e94-1a64-4f39-aaed-cc6c07c816ee",
   "metadata": {},
   "outputs": [
    {
     "name": "stdout",
     "output_type": "stream",
     "text": [
      "최종 답은 35248.91490376756 입니다\n"
     ]
    }
   ],
   "source": [
    "answer = bunja / bunmo\n",
    "print( \"최종 답은 {} 입니다\".format(answer) )"
   ]
  },
  {
   "cell_type": "markdown",
   "id": "454ab4c7-56c0-4f27-a605-6c981b00b9b6",
   "metadata": {},
   "source": [
    "### 최소 최대값 활용 풀이 (고하은)"
   ]
  },
  {
   "cell_type": "code",
   "execution_count": null,
   "id": "f1ad850e-b164-4806-8747-31b3c9a8b430",
   "metadata": {},
   "outputs": [],
   "source": [
    "import pandas as pd\n",
    "\n",
    "customerData = pd.read_csv(\"../dataset/kopo_customerdata.csv\")\n",
    "customerTotalList = customerData[\"TOTAL_AMOUNT\"].tolist()\n",
    "\n",
    "list_min = min(customerTotalList)   # 최소값\n",
    "\n",
    "list_max = max(customerTotalList) #최대값\n",
    "\n",
    "min_count = customerTotalList.count(list_min) #최소값 개수\n",
    "\n",
    "max_count = customerTotalList.count(list_max) #최대값 개수\n",
    "\n",
    "list_len = len(customerTotalList)  #리스트 개수\n",
    "\n",
    "list_len2 = list_len - min_count - max_count   #총 리스트 개수\n",
    "\n",
    "min_count_sum = list_min * min_count #최소값 총합\n",
    "\n",
    "max_count_sum = list_max * max_count  #최대값 총합\n",
    "\n",
    "total_sum = sum(customerTotalList) #총 합\n",
    "\n",
    "total_sum2 = total_sum - min_count_sum - max_count_sum    # 최소값 최대값 제외 총합\n",
    "\n",
    "averge = total_sum2 / list_len2\n",
    "print(averge)"
   ]
  },
  {
   "cell_type": "markdown",
   "id": "10e3db94-1118-41a9-9973-e0637705f868",
   "metadata": {},
   "source": [
    "### 인덱스 활용 풀이 (백승수)"
   ]
  },
  {
   "cell_type": "code",
   "execution_count": null,
   "id": "473b454a-d8a5-4db5-8389-325976a81677",
   "metadata": {},
   "outputs": [],
   "source": [
    "import pandas as pd\n",
    "customerData = pd.read_csv(\"../dataset/kopo_customerdata.csv\")\n",
    "customerTotalList = customerData[\"TOTAL_AMOUNT\"].tolist()\n",
    "\n",
    "# 최소값 검색\n",
    "min(customerTotalList)\n",
    "\n",
    "# 최소값 카운트\n",
    "DelMin = customerTotalList.count(min(customerTotalList))\n",
    "\n",
    "# 오름차순 정렬\n",
    "customerTotalList.sort()\n",
    "\n",
    "# 정렬된 오름차순에서 최소값 전체 삭제\n",
    "del customerTotalList[:DelMin]\n",
    "\n",
    "# 최대값 검색\n",
    "max(customerTotalList)\n",
    "\n",
    "# 최대값 카운트\n",
    "DelMax = customerTotalList.count(max(customerTotalList))\n",
    "\n",
    "# 내림차순 정렬\n",
    "customerTotalList.sort(reverse=True)\n",
    "\n",
    "# 최대값 제거\n",
    "del customerTotalList[:DelMax]\n",
    "\n",
    "# 최대, 최소 제거 이후 총합계\n",
    "ListSum = sum(customerTotalList)\n",
    "\n",
    "# 최소, 최대 제거 이후 총 갯수\n",
    "ListLen = len(customerTotalList)\n",
    "\n",
    "# 평균 구하기\n",
    "avg = ListSum/ListLen\n",
    "# 평균\n",
    "print(avg)\n",
    "# 정수로 수정\n",
    "print(int(avg))"
   ]
  }
 ],
 "metadata": {
  "kernelspec": {
   "display_name": "Python 3 (ipykernel)",
   "language": "python",
   "name": "python3"
  },
  "language_info": {
   "codemirror_mode": {
    "name": "ipython",
    "version": 3
   },
   "file_extension": ".py",
   "mimetype": "text/x-python",
   "name": "python",
   "nbconvert_exporter": "python",
   "pygments_lexer": "ipython3",
   "version": "3.9.13"
  }
 },
 "nbformat": 4,
 "nbformat_minor": 5
}
