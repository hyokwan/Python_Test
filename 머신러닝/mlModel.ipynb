{
 "cells": [
  {
   "cell_type": "markdown",
   "id": "958c4e32-137b-4251-8a80-dc0319daaa7d",
   "metadata": {},
   "source": [
    "### 라이브러리 선언 및 데이터 불러오기"
   ]
  },
  {
   "cell_type": "code",
   "execution_count": 1,
   "id": "c7a77b85-0a7b-4a99-a77f-c81a0f9952cd",
   "metadata": {},
   "outputs": [],
   "source": [
    "# 데이터 처리 라이브러리\n",
    "import pandas as pd\n",
    "import numpy as np\n",
    "\n",
    "# 머신러닝 라이브러리\n",
    "from sklearn import tree\n",
    "from sklearn import ensemble"
   ]
  },
  {
   "cell_type": "code",
   "execution_count": 2,
   "id": "47f7875f-d860-4f3d-9466-5b50752542f4",
   "metadata": {},
   "outputs": [],
   "source": [
    "featuresData = pd.read_csv(\"../dataset/feature_regression_example.csv\")"
   ]
  },
  {
   "cell_type": "markdown",
   "id": "96b049aa-5fdc-4530-9b00-53e6f93e0897",
   "metadata": {},
   "source": [
    "# A. 데이터 전처리"
   ]
  },
  {
   "cell_type": "markdown",
   "id": "6ddc36b5-3969-4149-8d7e-9777d81d5709",
   "metadata": {},
   "source": [
    "### A-1. 타입 통합 / 특성 숫자컬럼 추가"
   ]
  },
  {
   "cell_type": "code",
   "execution_count": 3,
   "id": "2b25e9d8-6091-416b-92ed-a4386c4d5170",
   "metadata": {},
   "outputs": [],
   "source": [
    "# 데이터 타입 통합\n",
    "featuresData[\"REGIONID\"] = featuresData[\"REGIONID\"].astype(str)\n",
    "featuresData[\"PRODUCTGROUP\"] = featuresData[\"PRODUCTGROUP\"].astype(str)"
   ]
  },
  {
   "cell_type": "code",
   "execution_count": 4,
   "id": "b4843c09-0afb-4581-9782-2adade199ebb",
   "metadata": {},
   "outputs": [],
   "source": [
    "# 특성값 숫자컬럼 변경"
   ]
  },
  {
   "cell_type": "code",
   "execution_count": 5,
   "id": "2767e50e-ed0f-4899-95f4-cdbc2ecdade5",
   "metadata": {},
   "outputs": [],
   "source": [
    "featuresData[\"PROMOTION_LB\"] = np.where( featuresData.PROMOTION == \"Y\", 1, 0)"
   ]
  },
  {
   "cell_type": "code",
   "execution_count": 6,
   "id": "599627cf-a149-4d6f-b3ff-fc091bf32e6f",
   "metadata": {},
   "outputs": [],
   "source": [
    "featuresData[\"HOLIDAY_LB\"] = np.where( featuresData.HOLIDAY ==\"Y\", 1, 0 )"
   ]
  },
  {
   "cell_type": "markdown",
   "id": "790f6b31-f85f-4a6a-96cd-ccde656372d2",
   "metadata": {},
   "source": [
    "### A-2 특성 선정 / 데이터 분리"
   ]
  },
  {
   "cell_type": "code",
   "execution_count": 7,
   "id": "b8974791-ae08-4706-a84d-c2e4357d5ddb",
   "metadata": {},
   "outputs": [],
   "source": [
    "# stdCorrRepeat = np.array( list( range(3,8,1) ) ) / 10"
   ]
  },
  {
   "cell_type": "code",
   "execution_count": 8,
   "id": "860791ed-972b-48f4-aefe-da5af5ea859d",
   "metadata": {},
   "outputs": [],
   "source": [
    "corrDf = featuresData.corr()"
   ]
  },
  {
   "cell_type": "code",
   "execution_count": 9,
   "id": "be72390d-9830-4c16-b3cb-77bd9105e325",
   "metadata": {},
   "outputs": [],
   "source": [
    "stdCorr = 0.3"
   ]
  },
  {
   "cell_type": "code",
   "execution_count": 10,
   "id": "4cd42555-5004-457d-a8a6-1521ac837ac2",
   "metadata": {},
   "outputs": [
    {
     "data": {
      "text/plain": [
       "['HCLUS', 'PRO_PERCENT', 'PROMOTION_LB', 'HOLIDAY_LB']"
      ]
     },
     "execution_count": 10,
     "metadata": {},
     "output_type": "execute_result"
    }
   ],
   "source": [
    "features = list( corrDf.loc[ (abs( corrDf.QTY)  > stdCorr) & (abs( corrDf.QTY) != 1) ].index )\n",
    "features"
   ]
  },
  {
   "cell_type": "code",
   "execution_count": 11,
   "id": "1da73979-ded4-4428-8576-f699e970e9f7",
   "metadata": {},
   "outputs": [],
   "source": [
    "label=[\"QTY\"]"
   ]
  },
  {
   "cell_type": "code",
   "execution_count": 12,
   "id": "f5be3b46-b9b8-4c5c-ab11-6bc8b7e1977a",
   "metadata": {},
   "outputs": [],
   "source": [
    "# 특성 선정\n",
    "corrDf = featuresData.corr()\n",
    "stdCorr = 0.5"
   ]
  },
  {
   "cell_type": "code",
   "execution_count": 13,
   "id": "cc1cd538-abdb-4477-83bb-df9cfd9a8ab5",
   "metadata": {},
   "outputs": [],
   "source": [
    "features = list( corrDf.loc[ (abs(corrDf.QTY) >= stdCorr) & (corrDf.QTY != 1) ].index ) "
   ]
  },
  {
   "cell_type": "code",
   "execution_count": 14,
   "id": "5b2c9092-2549-4070-8bef-73800660420b",
   "metadata": {},
   "outputs": [],
   "source": [
    "label = [\"QTY\"]"
   ]
  },
  {
   "cell_type": "code",
   "execution_count": 15,
   "id": "dc159df2-fbb3-437b-8969-0231238bfaa7",
   "metadata": {},
   "outputs": [
    {
     "data": {
      "text/plain": [
       "(105, 14)"
      ]
     },
     "execution_count": 15,
     "metadata": {},
     "output_type": "execute_result"
    }
   ],
   "source": [
    "featuresData.shape"
   ]
  },
  {
   "cell_type": "code",
   "execution_count": 16,
   "id": "c5e1c95d-6904-4968-bc86-ad0746691c26",
   "metadata": {},
   "outputs": [],
   "source": [
    "from sklearn.model_selection import train_test_split"
   ]
  },
  {
   "cell_type": "code",
   "execution_count": 17,
   "id": "0dc23b25-2f0a-425d-82e3-eb0fce821a22",
   "metadata": {},
   "outputs": [],
   "source": [
    "# 23 93, 88  66 47 102  47 99 13 1\n",
    "# 96 68 38\n",
    "trainingDataFeatures,\\\n",
    "testDataFeatures,\\\n",
    "trainingDataLabel,\\\n",
    "testDataLabel= train_test_split(featuresData.loc[:,features],\n",
    "                                 featuresData.loc[:,label],\n",
    "                                 test_size=0.2, \n",
    "                                 random_state=10)"
   ]
  },
  {
   "cell_type": "code",
   "execution_count": 18,
   "id": "fc9d39c1-c486-41b1-8113-5155f0f74e6e",
   "metadata": {},
   "outputs": [
    {
     "name": "stdout",
     "output_type": "stream",
     "text": [
      "(84, 4)\n",
      "(21, 4)\n",
      "(84, 1)\n",
      "(21, 1)\n"
     ]
    }
   ],
   "source": [
    "print(trainingDataFeatures.shape)\n",
    "print(testDataFeatures.shape)\n",
    "print(trainingDataLabel.shape)\n",
    "print(testDataLabel.shape)"
   ]
  },
  {
   "cell_type": "code",
   "execution_count": 19,
   "id": "bef96ed9-76a1-4874-a417-348aa2708aec",
   "metadata": {},
   "outputs": [],
   "source": [
    "sortKey = [\"YEARWEEK\"]"
   ]
  },
  {
   "cell_type": "code",
   "execution_count": 20,
   "id": "74f33625-1cf5-4b35-9fc4-294fc50c6af9",
   "metadata": {},
   "outputs": [],
   "source": [
    "sortedData = featuresData.sort_values(sortKey).reset_index(drop=True)"
   ]
  },
  {
   "cell_type": "code",
   "execution_count": 21,
   "id": "ab18c32b-143b-4296-8725-109789769138",
   "metadata": {},
   "outputs": [],
   "source": [
    "stdYearweek = 2016"
   ]
  },
  {
   "cell_type": "code",
   "execution_count": 46,
   "id": "c0185965-2e49-4122-bb6b-6f2cafd4f788",
   "metadata": {},
   "outputs": [],
   "source": [
    "trainingDataFeatures = featuresData.loc[featuresData.YEAR < stdYearweek, features]\n",
    "trainingDataLabel = featuresData.loc[featuresData.YEAR < stdYearweek, label]\n",
    "testDataFeatures = featuresData.loc[featuresData.YEAR >= stdYearweek, features]\n",
    "testDataLabel = featuresData.loc[featuresData.YEAR >= stdYearweek, label]"
   ]
  },
  {
   "cell_type": "code",
   "execution_count": 49,
   "id": "c812123d-69d0-4f83-af3a-b2433a35ac82",
   "metadata": {},
   "outputs": [
    {
     "name": "stdout",
     "output_type": "stream",
     "text": [
      "(53, 4)\n",
      "(53, 1)\n",
      "(52, 4)\n",
      "(52, 1)\n"
     ]
    }
   ],
   "source": [
    "print( trainingDataFeatures.shape )\n",
    "print( trainingDataLabel.shape )\n",
    "print( testDataFeatures.shape )\n",
    "print( testDataLabel.shape )"
   ]
  },
  {
   "cell_type": "markdown",
   "id": "5206f22c-b8dc-4861-8cb2-ec7285abdfd9",
   "metadata": {},
   "source": [
    "# B 모델 적용"
   ]
  },
  {
   "cell_type": "markdown",
   "id": "e6f9be39-ae11-4b22-82d9-cd8ca600c309",
   "metadata": {},
   "source": [
    "### B-3. 모델적용"
   ]
  },
  {
   "cell_type": "code",
   "execution_count": 50,
   "id": "d8b5cb79-f51d-4a60-a227-9dec03e07e7b",
   "metadata": {},
   "outputs": [],
   "source": [
    "from sklearn import tree"
   ]
  },
  {
   "cell_type": "code",
   "execution_count": 51,
   "id": "0005d788-4283-45d8-8c1f-4ae8afdf8420",
   "metadata": {},
   "outputs": [],
   "source": [
    "dtModel = tree.DecisionTreeRegressor(random_state=10)"
   ]
  },
  {
   "cell_type": "code",
   "execution_count": 52,
   "id": "ea15fcd3-95b5-4f56-89ff-939eff25a555",
   "metadata": {},
   "outputs": [
    {
     "data": {
      "text/plain": [
       "DecisionTreeRegressor(random_state=10)"
      ]
     },
     "execution_count": 52,
     "metadata": {},
     "output_type": "execute_result"
    }
   ],
   "source": [
    "# 훈련\n",
    "dtModel.fit(X=trainingDataFeatures, y=trainingDataLabel)"
   ]
  },
  {
   "cell_type": "markdown",
   "id": "419f1c23-4f6d-4655-8ab9-c579ca2a5ce5",
   "metadata": {},
   "source": [
    "# c-4. 예측"
   ]
  },
  {
   "cell_type": "code",
   "execution_count": 53,
   "id": "63bcf016-caee-4952-bb43-c87e0823f54e",
   "metadata": {},
   "outputs": [],
   "source": [
    "import matplotlib.pyplot as plt"
   ]
  },
  {
   "cell_type": "code",
   "execution_count": 54,
   "id": "da119623-2278-4a23-956a-63623819277b",
   "metadata": {},
   "outputs": [],
   "source": [
    "%matplotlib inline"
   ]
  },
  {
   "cell_type": "code",
   "execution_count": 55,
   "id": "9d565b7f-68ea-4006-aecf-da9a68bcf797",
   "metadata": {},
   "outputs": [],
   "source": [
    "from sklearn.tree import plot_tree"
   ]
  },
  {
   "cell_type": "code",
   "execution_count": 56,
   "id": "f8f3aacc-ef89-484c-a3d9-83869d90307d",
   "metadata": {},
   "outputs": [
    {
     "data": {
      "text/plain": [
       "[Text(0.61, 0.9285714285714286, 'X[1] <= 0.259\\nsquared_error = 791297.109\\nsamples = 53\\nvalue = 1186.849'),\n",
       " Text(0.38, 0.7857142857142857, 'X[2] <= 0.5\\nsquared_error = 282086.368\\nsamples = 44\\nvalue = 890.636'),\n",
       " Text(0.16, 0.6428571428571429, 'X[0] <= 2.5\\nsquared_error = 66518.09\\nsamples = 17\\nvalue = 427.706'),\n",
       " Text(0.08, 0.5, 'squared_error = 0.0\\nsamples = 1\\nvalue = 337.0'),\n",
       " Text(0.24, 0.5, 'squared_error = 70129.109\\nsamples = 16\\nvalue = 433.375'),\n",
       " Text(0.6, 0.6428571428571429, 'X[0] <= 3.0\\nsquared_error = 197924.469\\nsamples = 27\\nvalue = 1182.111'),\n",
       " Text(0.4, 0.5, 'X[1] <= 0.224\\nsquared_error = 177291.389\\nsamples = 12\\nvalue = 1385.333'),\n",
       " Text(0.32, 0.35714285714285715, 'X[1] <= 0.209\\nsquared_error = 143235.673\\nsamples = 7\\nvalue = 1266.429'),\n",
       " Text(0.16, 0.21428571428571427, 'X[0] <= 1.5\\nsquared_error = 176400.0\\nsamples = 2\\nvalue = 1390.0'),\n",
       " Text(0.08, 0.07142857142857142, 'squared_error = 0.0\\nsamples = 1\\nvalue = 970.0'),\n",
       " Text(0.24, 0.07142857142857142, 'squared_error = 0.0\\nsamples = 1\\nvalue = 1810.0'),\n",
       " Text(0.48, 0.21428571428571427, 'X[0] <= 1.5\\nsquared_error = 121418.8\\nsamples = 5\\nvalue = 1217.0'),\n",
       " Text(0.4, 0.07142857142857142, 'squared_error = 112390.688\\nsamples = 4\\nvalue = 1305.75'),\n",
       " Text(0.56, 0.07142857142857142, 'squared_error = 0.0\\nsamples = 1\\nvalue = 862.0'),\n",
       " Text(0.48, 0.35714285714285715, 'squared_error = 177464.56\\nsamples = 5\\nvalue = 1551.8'),\n",
       " Text(0.8, 0.5, 'X[1] <= 0.224\\nsquared_error = 154959.982\\nsamples = 15\\nvalue = 1019.533'),\n",
       " Text(0.72, 0.35714285714285715, 'X[1] <= 0.209\\nsquared_error = 126848.864\\nsamples = 13\\nvalue = 990.462'),\n",
       " Text(0.64, 0.21428571428571427, 'squared_error = 150418.667\\nsamples = 9\\nvalue = 1009.667'),\n",
       " Text(0.8, 0.21428571428571427, 'squared_error = 71119.688\\nsamples = 4\\nvalue = 947.25'),\n",
       " Text(0.88, 0.35714285714285715, 'squared_error = 296480.25\\nsamples = 2\\nvalue = 1208.5'),\n",
       " Text(0.84, 0.7857142857142857, 'X[1] <= 0.319\\nsquared_error = 754670.0\\nsamples = 9\\nvalue = 2635.0'),\n",
       " Text(0.76, 0.6428571428571429, 'squared_error = 392896.75\\nsamples = 4\\nvalue = 3186.5'),\n",
       " Text(0.92, 0.6428571428571429, 'squared_error = 606109.36\\nsamples = 5\\nvalue = 2193.8')]"
      ]
     },
     "execution_count": 56,
     "metadata": {},
     "output_type": "execute_result"
    },
    {
     "data": {
      "image/png": "[encoded data removed]",
      "text/plain": [
       "<Figure size 1000x800 with 1 Axes>"
      ]
     },
     "metadata": {},
     "output_type": "display_data"
    }
   ],
   "source": [
    "plt.figure(figsize=(10,8))\n",
    "plot_tree(dtModel)"
   ]
  },
  {
   "cell_type": "markdown",
   "id": "bbadd04c-bd58-478e-a83a-24134a2822a0",
   "metadata": {},
   "source": [
    "# c-4. 예측"
   ]
  },
  {
   "cell_type": "code",
   "execution_count": 57,
   "id": "c570d937-6196-4897-89b2-4decce701aad",
   "metadata": {},
   "outputs": [
    {
     "data": {
      "text/plain": [
       "(52, 4)"
      ]
     },
     "execution_count": 57,
     "metadata": {},
     "output_type": "execute_result"
    }
   ],
   "source": [
    "testDataFeatures.shape"
   ]
  },
  {
   "cell_type": "code",
   "execution_count": 59,
   "id": "16b81d4c-400b-4716-8ac0-4805f9308c48",
   "metadata": {},
   "outputs": [],
   "source": [
    "predictValueDt = dtModel.predict(testDataFeatures)"
   ]
  },
  {
   "cell_type": "code",
   "execution_count": 65,
   "id": "a8b57eaa-3929-4b0b-8e0a-82cd4111d1a5",
   "metadata": {},
   "outputs": [],
   "source": [
    "testDataLabel[\"DT_PREDICT\"] = predictValueDt"
   ]
  },
  {
   "cell_type": "code",
   "execution_count": 67,
   "id": "a32dc304-4db0-4235-b253-e1d99feba21f",
   "metadata": {},
   "outputs": [],
   "source": [
    "finalValue = testDataLabel"
   ]
  }
 ],
 "metadata": {
  "kernelspec": {
   "display_name": "Python 3 (ipykernel)",
   "language": "python",
   "name": "python3"
  },
  "language_info": {
   "codemirror_mode": {
    "name": "ipython",
    "version": 3
   },
   "file_extension": ".py",
   "mimetype": "text/x-python",
   "name": "python",
   "nbconvert_exporter": "python",
   "pygments_lexer": "ipython3",
   "version": "3.9.13"
  }
 },
 "nbformat": 4,
 "nbformat_minor": 5
}
